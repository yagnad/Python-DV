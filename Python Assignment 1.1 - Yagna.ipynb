{
 "cells": [
  {
   "cell_type": "markdown",
   "metadata": {},
   "source": [
    "# 1. Reading a csv file to dataframe"
   ]
  },
  {
   "cell_type": "code",
   "execution_count": 1,
   "metadata": {},
   "outputs": [],
   "source": [
    "import pandas as pd"
   ]
  },
  {
   "cell_type": "code",
   "execution_count": 2,
   "metadata": {},
   "outputs": [],
   "source": [
    "df = pd.read_csv(\"all_040_in_11.H13.csv\")"
   ]
  },
  {
   "cell_type": "code",
   "execution_count": 3,
   "metadata": {},
   "outputs": [
    {
     "data": {
      "text/html": [
       "<div>\n",
       "<style scoped>\n",
       "    .dataframe tbody tr th:only-of-type {\n",
       "        vertical-align: middle;\n",
       "    }\n",
       "\n",
       "    .dataframe tbody tr th {\n",
       "        vertical-align: top;\n",
       "    }\n",
       "\n",
       "    .dataframe thead th {\n",
       "        text-align: right;\n",
       "    }\n",
       "</style>\n",
       "<table border=\"1\" class=\"dataframe\">\n",
       "  <thead>\n",
       "    <tr style=\"text-align: right;\">\n",
       "      <th></th>\n",
       "      <th>GEOID</th>\n",
       "      <th>SUMLEV</th>\n",
       "      <th>STATE</th>\n",
       "      <th>COUNTY</th>\n",
       "      <th>CBSA</th>\n",
       "      <th>CSA</th>\n",
       "      <th>NECTA</th>\n",
       "      <th>CNECTA</th>\n",
       "      <th>NAME</th>\n",
       "      <th>POP100</th>\n",
       "      <th>...</th>\n",
       "      <th>H013004</th>\n",
       "      <th>H013004.2000</th>\n",
       "      <th>H013005</th>\n",
       "      <th>H013005.2000</th>\n",
       "      <th>H013006</th>\n",
       "      <th>H013006.2000</th>\n",
       "      <th>H013007</th>\n",
       "      <th>H013007.2000</th>\n",
       "      <th>H013008</th>\n",
       "      <th>H013008.2000</th>\n",
       "    </tr>\n",
       "  </thead>\n",
       "  <tbody>\n",
       "    <tr>\n",
       "      <td>0</td>\n",
       "      <td>11</td>\n",
       "      <td>40</td>\n",
       "      <td>11</td>\n",
       "      <td>NaN</td>\n",
       "      <td>NaN</td>\n",
       "      <td>NaN</td>\n",
       "      <td>NaN</td>\n",
       "      <td>NaN</td>\n",
       "      <td>District of Columbia</td>\n",
       "      <td>601723</td>\n",
       "      <td>...</td>\n",
       "      <td>32679</td>\n",
       "      <td>31709</td>\n",
       "      <td>20274</td>\n",
       "      <td>20089</td>\n",
       "      <td>9913</td>\n",
       "      <td>10457</td>\n",
       "      <td>4572</td>\n",
       "      <td>4807</td>\n",
       "      <td>3993</td>\n",
       "      <td>4198</td>\n",
       "    </tr>\n",
       "  </tbody>\n",
       "</table>\n",
       "<p>1 rows × 29 columns</p>\n",
       "</div>"
      ],
      "text/plain": [
       "   GEOID  SUMLEV  STATE  COUNTY  CBSA  CSA  NECTA  CNECTA  \\\n",
       "0     11      40     11     NaN   NaN  NaN    NaN     NaN   \n",
       "\n",
       "                   NAME  POP100  ...  H013004  H013004.2000  H013005  \\\n",
       "0  District of Columbia  601723  ...    32679         31709    20274   \n",
       "\n",
       "   H013005.2000  H013006  H013006.2000  H013007  H013007.2000  H013008  \\\n",
       "0         20089     9913         10457     4572          4807     3993   \n",
       "\n",
       "   H013008.2000  \n",
       "0          4198  \n",
       "\n",
       "[1 rows x 29 columns]"
      ]
     },
     "execution_count": 3,
     "metadata": {},
     "output_type": "execute_result"
    }
   ],
   "source": [
    "df.head()"
   ]
  }
 ],
 "metadata": {
  "kernelspec": {
   "display_name": "Python 3",
   "language": "python",
   "name": "python3"
  },
  "language_info": {
   "codemirror_mode": {
    "name": "ipython",
    "version": 3
   },
   "file_extension": ".py",
   "mimetype": "text/x-python",
   "name": "python",
   "nbconvert_exporter": "python",
   "pygments_lexer": "ipython3",
   "version": "3.7.4"
  }
 },
 "nbformat": 4,
 "nbformat_minor": 2
}
